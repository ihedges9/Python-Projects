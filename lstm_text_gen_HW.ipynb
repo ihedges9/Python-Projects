{
  "cells": [
    {
      "cell_type": "markdown",
      "metadata": {
        "id": "view-in-github",
        "colab_type": "text"
      },
      "source": [
        "<a href=\"https://colab.research.google.com/github/ihedges9/Python-Projects/blob/main/lstm_text_gen_HW.ipynb\" target=\"_parent\"><img src=\"https://colab.research.google.com/assets/colab-badge.svg\" alt=\"Open In Colab\"/></a>"
      ]
    },
    {
      "cell_type": "markdown",
      "metadata": {
        "id": "XWppJEv2ERVQ"
      },
      "source": [
        "# Long Short-term Memory for Text Generation"
      ]
    },
    {
      "cell_type": "markdown",
      "metadata": {
        "id": "j4RBxDv-ERVS"
      },
      "source": [
        "This notebook uses LSTM neural network to generate text from Nietzsche's writings."
      ]
    },
    {
      "cell_type": "code",
      "execution_count": 1,
      "metadata": {
        "id": "vC0jdj6RERVS"
      },
      "outputs": [],
      "source": [
        "import matplotlib.pyplot as plt\n",
        "import numpy as np\n",
        "import pandas as pd\n",
        "import time\n",
        "import random\n",
        "import sys\n",
        "import io\n",
        "\n",
        "\n",
        "import tensorflow as tf\n",
        "from tensorflow import keras\n",
        "from tensorflow.keras import layers\n",
        "from tensorflow.keras import optimizers\n",
        "from tensorflow.keras.callbacks import LambdaCallback\n",
        "from tensorflow.keras.utils import get_file\n",
        "\n"
      ]
    },
    {
      "cell_type": "markdown",
      "metadata": {
        "id": "A2W9-aTzERVU"
      },
      "source": [
        "## Dataset"
      ]
    },
    {
      "cell_type": "markdown",
      "metadata": {
        "id": "AL8x1DjdERVU"
      },
      "source": [
        "### Get the data\n",
        "Nietzsche's writing dataset is available online. The following code download the dataset."
      ]
    },
    {
      "cell_type": "code",
      "execution_count": 2,
      "metadata": {
        "colab": {
          "base_uri": "https://localhost:8080/"
        },
        "id": "06QxXBZDERVV",
        "outputId": "d9a9de87-54dd-402e-fb73-9611882f7c10"
      },
      "outputs": [
        {
          "output_type": "stream",
          "name": "stdout",
          "text": [
            "Downloading data from https://s3.amazonaws.com/text-datasets/nietzsche.txt\n",
            "\u001b[1m600901/600901\u001b[0m \u001b[32m━━━━━━━━━━━━━━━━━━━━\u001b[0m\u001b[37m\u001b[0m \u001b[1m1s\u001b[0m 1us/step\n"
          ]
        }
      ],
      "source": [
        "path = get_file(\n",
        "    'nietzsche.txt',\n",
        "    origin='https://s3.amazonaws.com/text-datasets/nietzsche.txt')\n",
        "with io.open(path, encoding='utf-8') as f:\n",
        "    text = f.read().lower()"
      ]
    },
    {
      "cell_type": "markdown",
      "metadata": {
        "id": "ECFejNckERVV"
      },
      "source": [
        "### Visualize data"
      ]
    },
    {
      "cell_type": "code",
      "execution_count": 3,
      "metadata": {
        "colab": {
          "base_uri": "https://localhost:8080/"
        },
        "id": "JY47xw7-ERVV",
        "outputId": "59e623e5-6c4f-45d0-b0f1-4020165eeab6"
      },
      "outputs": [
        {
          "output_type": "stream",
          "name": "stdout",
          "text": [
            "corpus length: 600893\n"
          ]
        }
      ],
      "source": [
        "print('corpus length:', len(text))"
      ]
    },
    {
      "cell_type": "code",
      "execution_count": 4,
      "metadata": {
        "colab": {
          "base_uri": "https://localhost:8080/"
        },
        "id": "8Gwwa5wfERVW",
        "outputId": "3cd6034c-95b2-4f81-b40d-d39af3f5dde7",
        "scrolled": true
      },
      "outputs": [
        {
          "output_type": "stream",
          "name": "stdout",
          "text": [
            "supposing that truth is a woman--what then? is there not ground\n",
            "for suspecting that all philosophers, in so far as they have been\n",
            "dogmatists, have failed to understand women--that the terrible\n",
            "seriousness and clumsy importunity with which they have usually paid\n",
            "their addresses to truth, have been unskilled and unseemly methods for\n",
            "winning a woman? certainly she has never allowed herself to be won; and\n",
            "at present every kind of dogma stands with sad and discouraged mien--if,\n",
            "indeed, it stands at all!\n"
          ]
        }
      ],
      "source": [
        "print(text[10:513])"
      ]
    },
    {
      "cell_type": "code",
      "execution_count": 5,
      "metadata": {
        "colab": {
          "base_uri": "https://localhost:8080/"
        },
        "id": "LPI4SkywERVX",
        "outputId": "f4b93af3-fde8-4ff8-8ead-6212a9f34700"
      },
      "outputs": [
        {
          "output_type": "stream",
          "name": "stdout",
          "text": [
            "total chars: 57\n"
          ]
        }
      ],
      "source": [
        "chars = sorted(list(set(text)))\n",
        "# total nomber of characters\n",
        "print('total chars:', len(chars))"
      ]
    },
    {
      "cell_type": "markdown",
      "metadata": {
        "id": "8ibV0CydERVX"
      },
      "source": [
        "### Clean data\n",
        "\n",
        "We cut the text in sequences of maxlen characters with a jump size of 3.\n",
        "The features for each example is a matrix of size maxlen*num of chars.\n",
        "The label for each example is a vector of size num of chars, which represents the next character."
      ]
    },
    {
      "cell_type": "code",
      "execution_count": 6,
      "metadata": {
        "id": "R-jkujlsERVX"
      },
      "outputs": [],
      "source": [
        "# create (character, index) and (index, character) dictionary\n",
        "char_indices = dict((c, i) for i, c in enumerate(chars))\n",
        "indices_char = dict((i, c) for i, c in enumerate(chars))"
      ]
    },
    {
      "cell_type": "code",
      "execution_count": 7,
      "metadata": {
        "colab": {
          "base_uri": "https://localhost:8080/"
        },
        "id": "HEBUyXyBERVY",
        "outputId": "d270107a-5df7-4cce-a391-3befa6dafe00"
      },
      "outputs": [
        {
          "output_type": "stream",
          "name": "stdout",
          "text": [
            "nb sequences: 200285\n"
          ]
        }
      ],
      "source": [
        "# cut the text in semi-redundant sequences of maxlen characters\n",
        "maxlen = 40\n",
        "step = 3\n",
        "sentences = []\n",
        "next_chars = []\n",
        "for i in range(0, len(text) - maxlen, step):\n",
        "    sentences.append(text[i: i + maxlen])\n",
        "    next_chars.append(text[i + maxlen])\n",
        "print('nb sequences:', len(sentences))"
      ]
    },
    {
      "cell_type": "markdown",
      "metadata": {
        "id": "5FGg1ShmWmSD"
      },
      "source": [
        "### Vecterization **This vectorization procedure includes a one-hot-encoding for each word, and therefore, an Embedding layer should not be used. If you want to use an Embedding layer. You will need to revise this block. **"
      ]
    },
    {
      "cell_type": "code",
      "execution_count": 8,
      "metadata": {
        "colab": {
          "base_uri": "https://localhost:8080/"
        },
        "id": "Ftcdv7S4ERVY",
        "outputId": "61f017ad-05e0-4e73-badf-f4c720ca8acf"
      },
      "outputs": [
        {
          "output_type": "stream",
          "name": "stdout",
          "text": [
            "Vectorization...\n"
          ]
        }
      ],
      "source": [
        "print('Vectorization...')\n",
        "x = np.zeros((len(sentences), maxlen, len(chars)), dtype=bool)\n",
        "y = np.zeros((len(sentences), len(chars)), dtype=bool)\n",
        "for i, sentence in enumerate(sentences):\n",
        "    for t, char in enumerate(sentence):\n",
        "        x[i, t, char_indices[char]] = 1\n",
        "    y[i, char_indices[next_chars[i]]] = 1"
      ]
    },
    {
      "cell_type": "markdown",
      "metadata": {
        "id": "2g04nzFKERVY"
      },
      "source": [
        "## The model"
      ]
    },
    {
      "cell_type": "markdown",
      "metadata": {
        "id": "VVWhFLcbERVZ"
      },
      "source": [
        "### Build the model - fill in this box"
      ]
    },
    {
      "cell_type": "markdown",
      "metadata": {
        "id": "oRnIV0JtERVZ"
      },
      "source": [
        "we need a recurrent layer with input shape (maxlen, len(chars)) and a dense layer with output size  len(chars)"
      ]
    },
    {
      "cell_type": "code",
      "execution_count": 10,
      "metadata": {
        "id": "fzSVtBghERVZ"
      },
      "outputs": [],
      "source": [
        "model = keras.Sequential()\n",
        "model.add(layers.Input((maxlen,len(chars))))\n",
        "model.add(layers.LSTM(128, dropout=0.2, recurrent_dropout=0.2))\n",
        "model.add(layers.Dense(57, activation='sigmoid'))\n",
        "\n",
        "optimizer = optimizers.Adam(learning_rate=0.015)\n",
        "model.compile(loss='binary_crossentropy',\n",
        "              optimizer=optimizer,\n",
        "              metrics=['accuracy'])"
      ]
    },
    {
      "cell_type": "markdown",
      "metadata": {
        "id": "Xte4grhqERVZ"
      },
      "source": [
        "### Inspect the model\n",
        "\n",
        "Use the `.summary` method to print a simple description of the model"
      ]
    },
    {
      "cell_type": "code",
      "execution_count": 11,
      "metadata": {
        "colab": {
          "base_uri": "https://localhost:8080/",
          "height": 193
        },
        "id": "xZYsX4p0ERVZ",
        "outputId": "b298090e-6740-4a8a-d47b-0c3f29a69931"
      },
      "outputs": [
        {
          "output_type": "display_data",
          "data": {
            "text/plain": [
              "\u001b[1mModel: \"sequential_1\"\u001b[0m\n"
            ],
            "text/html": [
              "<pre style=\"white-space:pre;overflow-x:auto;line-height:normal;font-family:Menlo,'DejaVu Sans Mono',consolas,'Courier New',monospace\"><span style=\"font-weight: bold\">Model: \"sequential_1\"</span>\n",
              "</pre>\n"
            ]
          },
          "metadata": {}
        },
        {
          "output_type": "display_data",
          "data": {
            "text/plain": [
              "┏━━━━━━━━━━━━━━━━━━━━━━━━━━━━━━━━━━━━━━┳━━━━━━━━━━━━━━━━━━━━━━━━━━━━━┳━━━━━━━━━━━━━━━━━┓\n",
              "┃\u001b[1m \u001b[0m\u001b[1mLayer (type)                        \u001b[0m\u001b[1m \u001b[0m┃\u001b[1m \u001b[0m\u001b[1mOutput Shape               \u001b[0m\u001b[1m \u001b[0m┃\u001b[1m \u001b[0m\u001b[1m        Param #\u001b[0m\u001b[1m \u001b[0m┃\n",
              "┡━━━━━━━━━━━━━━━━━━━━━━━━━━━━━━━━━━━━━━╇━━━━━━━━━━━━━━━━━━━━━━━━━━━━━╇━━━━━━━━━━━━━━━━━┩\n",
              "│ lstm_1 (\u001b[38;5;33mLSTM\u001b[0m)                        │ (\u001b[38;5;45mNone\u001b[0m, \u001b[38;5;34m128\u001b[0m)                 │          \u001b[38;5;34m95,232\u001b[0m │\n",
              "├──────────────────────────────────────┼─────────────────────────────┼─────────────────┤\n",
              "│ dense_1 (\u001b[38;5;33mDense\u001b[0m)                      │ (\u001b[38;5;45mNone\u001b[0m, \u001b[38;5;34m57\u001b[0m)                  │           \u001b[38;5;34m7,353\u001b[0m │\n",
              "└──────────────────────────────────────┴─────────────────────────────┴─────────────────┘\n"
            ],
            "text/html": [
              "<pre style=\"white-space:pre;overflow-x:auto;line-height:normal;font-family:Menlo,'DejaVu Sans Mono',consolas,'Courier New',monospace\">┏━━━━━━━━━━━━━━━━━━━━━━━━━━━━━━━━━━━━━━┳━━━━━━━━━━━━━━━━━━━━━━━━━━━━━┳━━━━━━━━━━━━━━━━━┓\n",
              "┃<span style=\"font-weight: bold\"> Layer (type)                         </span>┃<span style=\"font-weight: bold\"> Output Shape                </span>┃<span style=\"font-weight: bold\">         Param # </span>┃\n",
              "┡━━━━━━━━━━━━━━━━━━━━━━━━━━━━━━━━━━━━━━╇━━━━━━━━━━━━━━━━━━━━━━━━━━━━━╇━━━━━━━━━━━━━━━━━┩\n",
              "│ lstm_1 (<span style=\"color: #0087ff; text-decoration-color: #0087ff\">LSTM</span>)                        │ (<span style=\"color: #00d7ff; text-decoration-color: #00d7ff\">None</span>, <span style=\"color: #00af00; text-decoration-color: #00af00\">128</span>)                 │          <span style=\"color: #00af00; text-decoration-color: #00af00\">95,232</span> │\n",
              "├──────────────────────────────────────┼─────────────────────────────┼─────────────────┤\n",
              "│ dense_1 (<span style=\"color: #0087ff; text-decoration-color: #0087ff\">Dense</span>)                      │ (<span style=\"color: #00d7ff; text-decoration-color: #00d7ff\">None</span>, <span style=\"color: #00af00; text-decoration-color: #00af00\">57</span>)                  │           <span style=\"color: #00af00; text-decoration-color: #00af00\">7,353</span> │\n",
              "└──────────────────────────────────────┴─────────────────────────────┴─────────────────┘\n",
              "</pre>\n"
            ]
          },
          "metadata": {}
        },
        {
          "output_type": "display_data",
          "data": {
            "text/plain": [
              "\u001b[1m Total params: \u001b[0m\u001b[38;5;34m102,585\u001b[0m (400.72 KB)\n"
            ],
            "text/html": [
              "<pre style=\"white-space:pre;overflow-x:auto;line-height:normal;font-family:Menlo,'DejaVu Sans Mono',consolas,'Courier New',monospace\"><span style=\"font-weight: bold\"> Total params: </span><span style=\"color: #00af00; text-decoration-color: #00af00\">102,585</span> (400.72 KB)\n",
              "</pre>\n"
            ]
          },
          "metadata": {}
        },
        {
          "output_type": "display_data",
          "data": {
            "text/plain": [
              "\u001b[1m Trainable params: \u001b[0m\u001b[38;5;34m102,585\u001b[0m (400.72 KB)\n"
            ],
            "text/html": [
              "<pre style=\"white-space:pre;overflow-x:auto;line-height:normal;font-family:Menlo,'DejaVu Sans Mono',consolas,'Courier New',monospace\"><span style=\"font-weight: bold\"> Trainable params: </span><span style=\"color: #00af00; text-decoration-color: #00af00\">102,585</span> (400.72 KB)\n",
              "</pre>\n"
            ]
          },
          "metadata": {}
        },
        {
          "output_type": "display_data",
          "data": {
            "text/plain": [
              "\u001b[1m Non-trainable params: \u001b[0m\u001b[38;5;34m0\u001b[0m (0.00 B)\n"
            ],
            "text/html": [
              "<pre style=\"white-space:pre;overflow-x:auto;line-height:normal;font-family:Menlo,'DejaVu Sans Mono',consolas,'Courier New',monospace\"><span style=\"font-weight: bold\"> Non-trainable params: </span><span style=\"color: #00af00; text-decoration-color: #00af00\">0</span> (0.00 B)\n",
              "</pre>\n"
            ]
          },
          "metadata": {}
        }
      ],
      "source": [
        "model.summary()"
      ]
    },
    {
      "cell_type": "markdown",
      "metadata": {
        "id": "l9q9AlZnERVa"
      },
      "source": [
        "### Train the model"
      ]
    },
    {
      "cell_type": "code",
      "execution_count": 12,
      "metadata": {
        "id": "QDLnDNk7ERVa"
      },
      "outputs": [],
      "source": [
        "def sample(preds, temperature=1.0):\n",
        "    # helper function to sample an index from a probability array\n",
        "    preds = np.asarray(preds).astype('float64')\n",
        "    preds = np.log(preds) / temperature\n",
        "    exp_preds = np.exp(preds)\n",
        "    preds = exp_preds / np.sum(exp_preds)\n",
        "    probas = np.random.multinomial(1, preds, 1)\n",
        "    return np.argmax(probas)"
      ]
    },
    {
      "cell_type": "code",
      "execution_count": 13,
      "metadata": {
        "id": "LSXssBV3ERVa"
      },
      "outputs": [],
      "source": [
        "class PrintLoss(keras.callbacks.Callback):\n",
        "    def on_epoch_end(self, epoch, _):\n",
        "        # Function invoked at end of each epoch. Prints generated text.\n",
        "        print()\n",
        "        print('----- Generating text after Epoch: %d' % epoch)\n",
        "\n",
        "        start_index = random.randint(0, len(text) - maxlen - 1)\n",
        "        for diversity in [0.5, 1.0]:\n",
        "            print('----- diversity:', diversity)\n",
        "\n",
        "            generated = ''\n",
        "            sentence = text[start_index: start_index + maxlen]\n",
        "            generated += sentence\n",
        "            print('----- Generating with seed: \"' + sentence + '\"')\n",
        "            sys.stdout.write(generated)\n",
        "\n",
        "            for i in range(400):\n",
        "                x_pred = np.zeros((1, maxlen, len(chars)))\n",
        "                for t, char in enumerate(sentence):\n",
        "                    x_pred[0, t, char_indices[char]] = 1.\n",
        "\n",
        "                preds = model.predict(x_pred, verbose=0)[0]\n",
        "                next_index = sample(preds, diversity)\n",
        "                next_char = indices_char[next_index]\n",
        "\n",
        "                sentence = sentence[1:] + next_char\n",
        "\n",
        "                sys.stdout.write(next_char)\n",
        "                sys.stdout.flush()\n",
        "            print()"
      ]
    },
    {
      "cell_type": "code",
      "execution_count": 14,
      "metadata": {
        "colab": {
          "base_uri": "https://localhost:8080/"
        },
        "id": "A-KBDhU0ERVa",
        "scrolled": true,
        "outputId": "5b3faa91-ebbe-481b-c7f8-3b6aa272585f"
      },
      "outputs": [
        {
          "output_type": "stream",
          "name": "stdout",
          "text": [
            "Epoch 1/32\n",
            "\u001b[1m626/626\u001b[0m \u001b[32m━━━━━━━━━━━━━━━━━━━━\u001b[0m\u001b[37m\u001b[0m \u001b[1m0s\u001b[0m 114ms/step - accuracy: 0.1798 - loss: 0.0835\n",
            "----- Generating text after Epoch: 0\n",
            "----- diversity: 0.5\n",
            "----- Generating with seed: \"at men are superficial. it is their\n",
            "pres\"\n",
            "at men are superficial. it is their\n",
            "pres in the thof if of ind fhe the thomelen the he theld the the whe the fon bemaf whind ant te the the hes and sondes al ing en an se py ind theris fon fuly en bess of in ane the the houthe the the ile the \"selis whithes bpribins sinosesthere hes sory the sof phe fond ing alis inde the te the se fo the to fo sosese abe te \" the be the ande the be be cithe be the whes che the fone whe ot he and an be \n",
            "----- diversity: 1.0\n",
            "----- Generating with seed: \"at men are superficial. it is their\n",
            "pres\"\n",
            "at men are superficial. it is their\n",
            "presengisybe fobr funly-\"in, lerime en\n",
            "the, ccest,,.ifs tils:ut\" bact ht morlyreseste, tref ibe ; dheaitho fhinpemecind fcine bud 1f\n",
            "ditirn lf senfa faot beb.-- onaemaans. bih upsextf buthes fhey aaem\" theos ic, iondy? af ben. \"f fhe tile thas for  thiglits wo ssas\"intievidelyi fonewons fe, if ony wele tthetyede tind ofy3t fres\n",
            "demisien\n",
            "bllsethefablileif che mell!istuscos find op\n",
            " brencec thes in-xfol\n",
            "\u001b[1m626/626\u001b[0m \u001b[32m━━━━━━━━━━━━━━━━━━━━\u001b[0m\u001b[37m\u001b[0m \u001b[1m170s\u001b[0m 263ms/step - accuracy: 0.1799 - loss: 0.0834 - val_accuracy: 0.3015 - val_loss: 0.0591\n",
            "Epoch 2/32\n",
            "\u001b[1m626/626\u001b[0m \u001b[32m━━━━━━━━━━━━━━━━━━━━\u001b[0m\u001b[37m\u001b[0m \u001b[1m0s\u001b[0m 107ms/step - accuracy: 0.2658 - loss: 0.0616\n",
            "----- Generating text after Epoch: 1\n",
            "----- diversity: 0.5\n",
            "----- Generating with seed: \"rizon, an acceptance and approval of ign\"\n",
            "rizon, an acceptance and approval of ign is the eno oung oun theringere the en the thilly ter sore and of and thing of ondiner thertion the there ant \"ne ne whiciont hing theren berent fore the of and the interous bent it in ther inn ant an the the her the al uunely thes the the hes al thes un therenore therest en the therentureens to the res tituld an the herures to treng. the and and and pre the se eald one therence of the the sore na\n",
            "----- diversity: 1.0\n",
            "----- Generating with seed: \"rizon, an acceptance and approval of ign\"\n",
            "rizon, an acceptance and approval of ignd exm; \"frtend ticrly\n",
            "senrer,\n",
            "th perele entowirple outhresy muleestelyting cr tnomalreiier \n",
            "f orllivis arle uut uncickter fotly one oxper, fis torteiio ay;-us suat be,esbe. dereo. am l, af pernrulfuke a iace ehan anlotiutips mars, ler\n",
            "can eratye tira the rinrrend,\n",
            "preun mor raricksuthter lyamphequs, an tic che ourtogher\n",
            "on care thinlecrae thieyrunnise ftht\n",
            "hiled sumy\n",
            "if gr, ing ais cuds. whinauen \n",
            "\u001b[1m626/626\u001b[0m \u001b[32m━━━━━━━━━━━━━━━━━━━━\u001b[0m\u001b[37m\u001b[0m \u001b[1m195s\u001b[0m 257ms/step - accuracy: 0.2658 - loss: 0.0616 - val_accuracy: 0.3259 - val_loss: 0.0567\n",
            "Epoch 3/32\n",
            "\u001b[1m626/626\u001b[0m \u001b[32m━━━━━━━━━━━━━━━━━━━━\u001b[0m\u001b[37m\u001b[0m \u001b[1m0s\u001b[0m 108ms/step - accuracy: 0.2915 - loss: 0.0593\n",
            "----- Generating text after Epoch: 2\n",
            "----- diversity: 0.5\n",
            "----- Generating with seed: \"f duty,\" even we! occasionally,\n",
            "it is tr\"\n",
            "f duty,\" even we! occasionally,\n",
            "it is tre in thing und the sus thich the sempling in the the how his the and the beas ar enger and and command tim souliveres the pere, and at an the his shint sond of the a co susiong the prely cour sis and and and and the\n",
            "hides and in chich sumperin th the pralith and simnes of the per the hich the mant in the the his and there and of the stis and\n",
            "there the pores and cand and no one and be sunt indeas i\n",
            "----- diversity: 1.0\n",
            "----- Generating with seed: \"f duty,\" even we! occasionally,\n",
            "it is tr\"\n",
            "f duty,\" even we! occasionally,\n",
            "it is trs gud, phit sen hinly whicus wos, funieinglligithe rile trin the splizerne on the ousts im tibity iode owligrlolosalnde.\n",
            "\n",
            "cong,\n",
            "ingely therly nelo fol teon the hou hit trving ance, nt serle herst the indus ander, and\"and this sollustirishey ledbhasry wt cednact, the shant\n",
            "har trukd sows whigh, keno\n",
            "mubtithelotreall, ald, as stho plyse, whichince, t\n",
            "is che wan thardfinn hilss biveicay\n",
            "fus ofe\n",
            "calli\n",
            "\u001b[1m626/626\u001b[0m \u001b[32m━━━━━━━━━━━━━━━━━━━━\u001b[0m\u001b[37m\u001b[0m \u001b[1m205s\u001b[0m 262ms/step - accuracy: 0.2916 - loss: 0.0593 - val_accuracy: 0.3686 - val_loss: 0.0534\n",
            "Epoch 4/32\n",
            "\u001b[1m626/626\u001b[0m \u001b[32m━━━━━━━━━━━━━━━━━━━━\u001b[0m\u001b[37m\u001b[0m \u001b[1m0s\u001b[0m 111ms/step - accuracy: 0.3254 - loss: 0.0565\n",
            "----- Generating text after Epoch: 3\n",
            "----- diversity: 0.5\n",
            "----- Generating with seed: \"or if the father\n",
            "does not carry it to th\"\n",
            "or if the father\n",
            "does not carry it to the in the sing with to the sumpestition, and and the sesself and knd and and and in the lost and deation, and will conmers the goring\n",
            "men were to the eviling and inde in the deaterting and is in and the mister a pertien whild and hit which the and nithen of that in the have this the his or and conce, in the heated and whilopenten the the ention, in the seare man ard in and the stares, of sess a in \n",
            "----- diversity: 1.0\n",
            "----- Generating with seed: \"or if the father\n",
            "does not carry it to th\"\n",
            "or if the father\n",
            "does not carry it to theim die gomeltaralsure, with fere an painleif the \"ring d\n",
            "thisomict the douint, by in\" inting\" absuninokain dowive tibly ror; caltuilstally not aldedauns then ibly, tivirs itt is tlenk, when grest of indor -them sret and and wimal mer as uty, thew thy _alow\" \"atuis arleal in teapselitues shet taphes andamin the hlus, whild piss all gonaldly ant himn it cannomem tosrdadses the\n",
            "dony its winks injoft\n",
            "\u001b[1m626/626\u001b[0m \u001b[32m━━━━━━━━━━━━━━━━━━━━\u001b[0m\u001b[37m\u001b[0m \u001b[1m203s\u001b[0m 263ms/step - accuracy: 0.3254 - loss: 0.0565 - val_accuracy: 0.3993 - val_loss: 0.0507\n",
            "Epoch 5/32\n",
            "\u001b[1m626/626\u001b[0m \u001b[32m━━━━━━━━━━━━━━━━━━━━\u001b[0m\u001b[37m\u001b[0m \u001b[1m0s\u001b[0m 112ms/step - accuracy: 0.3565 - loss: 0.0540\n",
            "----- Generating text after Epoch: 4\n",
            "----- diversity: 0.5\n",
            "----- Generating with seed: \"d enthusiasm, including what belongs to \"\n",
            "d enthusiasm, including what belongs to fro mores in be the contion in the which which which the know of ho the gerd the porting to the sont the hast of to mall the pore and the an he the mory sost do the port of the not the of the mort of the genter pare the pere promas for hansentoon of the ang the spomer to the mood the conts ard in mont the sention of the gran the some and\n",
            "the owe be prect and to the and the pomentes the womld and r\n",
            "----- diversity: 1.0\n",
            "----- Generating with seed: \"d enthusiasm, including what belongs to \"\n",
            "d enthusiasm, including what belongs to the stied.o the befionar--omation the\n",
            "strerd as intuctiming, the\n",
            "loth natkm andoment the \"onet of keoper,\n",
            "fum\n",
            "leco\n",
            "it, hem chore ardist the saviril contigs, an of thathillo. winl a for we mode interunatle phices abooth the\n",
            "grr0. amengosuollfour the soch  t o\n",
            "moft sedm it vith ovan _of is th the pose formensavins even [ndimper as do dequere one prands for hang shous jonsiak.--wethementer, a loris t\n",
            "\u001b[1m626/626\u001b[0m \u001b[32m━━━━━━━━━━━━━━━━━━━━\u001b[0m\u001b[37m\u001b[0m \u001b[1m164s\u001b[0m 262ms/step - accuracy: 0.3565 - loss: 0.0540 - val_accuracy: 0.4174 - val_loss: 0.0491\n",
            "Epoch 6/32\n",
            "\u001b[1m626/626\u001b[0m \u001b[32m━━━━━━━━━━━━━━━━━━━━\u001b[0m\u001b[37m\u001b[0m \u001b[1m0s\u001b[0m 110ms/step - accuracy: 0.3787 - loss: 0.0524\n",
            "----- Generating text after Epoch: 5\n",
            "----- diversity: 0.5\n",
            "----- Generating with seed: \"\n",
            "\n",
            "\n",
            "1. the will to truth, which is to tem\"\n",
            "\n",
            "\n",
            "\n",
            "1. the will to truth, which is to tement and and have the grast which the who homentust the for the has is plist promisity that to the conopely in the more of stild that it mare whilostan eolity in the morality the oncersing of that is is and fir their thas a lich that the canfolity the\n",
            "who and and which the owhiloself and of the call them, a the somperpos and on a to is the candess of homent, and self in the frrth, and salitics of t\n",
            "----- diversity: 1.0\n",
            "----- Generating with seed: \"\n",
            "\n",
            "\n",
            "1. the will to truth, which is to tem\"\n",
            "\n",
            "\n",
            "\n",
            "1. the will to truth, which is to temse'ttinly of fon of ske crevined toath owatith hopertoral..\n",
            "te arsesvar all, geres ach\n",
            "purdery impulives, it lardigh sime,, on duet, wheloughth--leuphaty movates anoxith jention, this the\n",
            "worch exmition, which, and in wish of the thear the hensethnee,--which praveruols the\n",
            "gane, trvosan, of the pences the rettad to chare of\n",
            "gaze--than out\n",
            "t\n",
            "deling weat werks bnemveation all-in hims, the\n",
            "himperould\n",
            "\u001b[1m626/626\u001b[0m \u001b[32m━━━━━━━━━━━━━━━━━━━━\u001b[0m\u001b[37m\u001b[0m \u001b[1m163s\u001b[0m 261ms/step - accuracy: 0.3787 - loss: 0.0524 - val_accuracy: 0.4334 - val_loss: 0.0480\n",
            "Epoch 7/32\n",
            "\u001b[1m626/626\u001b[0m \u001b[32m━━━━━━━━━━━━━━━━━━━━\u001b[0m\u001b[37m\u001b[0m \u001b[1m0s\u001b[0m 113ms/step - accuracy: 0.3901 - loss: 0.0516\n",
            "----- Generating text after Epoch: 6\n",
            "----- diversity: 0.5\n",
            "----- Generating with seed: \"dom of the spirit which is, in an equal\n",
            "\"\n",
            "dom of the spirit which is, in an equal\n",
            "for which how do corse lible thewe the rist the sost the leand for the dise as the phill the porters that to the spirition in when philoses to which the expertull for are the conder doman we has the of the the consences and the sace the sust ad we of the firent the cant and what and and and presise that the ford the comperhand and seef and prose and and powhilosophily of the\n",
            "sass in the ret a seef\n",
            "----- diversity: 1.0\n",
            "----- Generating with seed: \"dom of the spirit which is, in an equal\n",
            "\"\n",
            "dom of the spirit which is, in an equal\n",
            "hearhest ow lefing, whick, owdede or these fowing the\n",
            "foghiinchines\n",
            "and pracion. thom\n",
            "or problat doad of the whened to uldicl the vewifacuimen these towetse forsher thempeptdives aud eed and fore in who dopripicarionities and doveptt ow bor, even\n",
            "is which is sime\n",
            "phisararct eveoy of\n",
            "the chashor he herd, upican tisererioners constined pernt, af so vir, heid of theicthate cer d, this wer coipocrilf;\n",
            "\u001b[1m626/626\u001b[0m \u001b[32m━━━━━━━━━━━━━━━━━━━━\u001b[0m\u001b[37m\u001b[0m \u001b[1m202s\u001b[0m 262ms/step - accuracy: 0.3901 - loss: 0.0516 - val_accuracy: 0.4374 - val_loss: 0.0474\n",
            "Epoch 8/32\n",
            "\u001b[1m626/626\u001b[0m \u001b[32m━━━━━━━━━━━━━━━━━━━━\u001b[0m\u001b[37m\u001b[0m \u001b[1m0s\u001b[0m 110ms/step - accuracy: 0.4001 - loss: 0.0507\n",
            "----- Generating text after Epoch: 7\n",
            "----- diversity: 0.5\n",
            "----- Generating with seed: \", intelligible, and manageable, to short\"\n",
            ", intelligible, and manageable, to short beent who\n",
            "consle time\n",
            "of the self-of the most consuce ef and to from we when truse of the condere, auser is stracted to what every as which meard of the dod along insenterend of that the artain and deadly, of the prate and every and the betish\n",
            "not all of gredent to the more to men the bears seare in and plesence ef the sost in a the dathing meand, that philosophilosophy, and persals of gist hose \n",
            "----- diversity: 1.0\n",
            "----- Generating with seed: \", intelligible, and manageable, to short\"\n",
            ", intelligible, and manageable, to shortigativid, nitself becaness\n",
            "ard,oin nahe bes houlds rs everyw and nowlly of the mund for thit chought, a c'fle is much\n",
            "for the sarity to wharself, his aboond out they,\"\n",
            "manto-grescies one be tiet, b, thise--ase oundermolle\n",
            "thats fucd, which monally, veactusizes, the\n",
            "der\n",
            "spirnmabas,\n",
            "\"orro, bt, of \"nods. feas in the wh utan: who\n",
            "to \"gook\n",
            "beaques) who persan eserned\n",
            "and\n",
            "io-outhicat phas gapee-with and\n",
            "\u001b[1m626/626\u001b[0m \u001b[32m━━━━━━━━━━━━━━━━━━━━\u001b[0m\u001b[37m\u001b[0m \u001b[1m202s\u001b[0m 261ms/step - accuracy: 0.4001 - loss: 0.0507 - val_accuracy: 0.4432 - val_loss: 0.0471\n",
            "Epoch 9/32\n",
            "\u001b[1m626/626\u001b[0m \u001b[32m━━━━━━━━━━━━━━━━━━━━\u001b[0m\u001b[37m\u001b[0m \u001b[1m0s\u001b[0m 109ms/step - accuracy: 0.4027 - loss: 0.0505\n",
            "----- Generating text after Epoch: 8\n",
            "----- diversity: 0.5\n",
            "----- Generating with seed: \"o meditate revenge and\n",
            "attain it is tant\"\n",
            "o meditate revenge and\n",
            "attain it is tanter and the sonsens and and and who the hastion of which the sted has of the frear a now it of the forme the with\n",
            "the partent and the roce of the poth which he the prasing of the fority and have to that who the have the hisher the for of and in the ontimaly and in about the which the serment more in the suster, the who and the wore for the fores has the are the portertain also that the pould of the\n",
            "----- diversity: 1.0\n",
            "----- Generating with seed: \"o meditate revenge and\n",
            "attain it is tant\"\n",
            "o meditate revenge and\n",
            "attain it is tantedned retimpe the persom, assura, the feder--as\n",
            "an\n",
            " ofhing, appertorninates in we his\n",
            "tadd which theims one men and dutian--that hepes of truapt hesment -ald outedouled too couderivact be ever, the inctraducan gods hnd of are merate\n",
            "for they the heps ptselonce magure who reveins the mor. all definis and hadare--the be!pardled stides) the unhop, of their theil frrmas on madualetoth they thing late,\n",
            "\u001b[1m626/626\u001b[0m \u001b[32m━━━━━━━━━━━━━━━━━━━━\u001b[0m\u001b[37m\u001b[0m \u001b[1m203s\u001b[0m 262ms/step - accuracy: 0.4027 - loss: 0.0505 - val_accuracy: 0.4486 - val_loss: 0.0467\n",
            "Epoch 10/32\n",
            "\u001b[1m626/626\u001b[0m \u001b[32m━━━━━━━━━━━━━━━━━━━━\u001b[0m\u001b[37m\u001b[0m \u001b[1m0s\u001b[0m 109ms/step - accuracy: 0.4076 - loss: 0.0502\n",
            "----- Generating text after Epoch: 9\n",
            "----- diversity: 0.5\n",
            "----- Generating with seed: \"conscience pangs. what evil may not have\"\n",
            "conscience pangs. what evil may not have and and emment to bearent of the revely, and and power only and and anst bealser he how man and forme and consense for which and deging to the courstany freent of every and in is by as a sperstion\n",
            "his but and seefled and sime of some\n",
            "fare the sould will of come and belive and the bodered and is supt and spirity an the and to be that be the heregher,\n",
            "and condersthouth and every contrade preated, t\n",
            "----- diversity: 1.0\n",
            "----- Generating with seed: \"conscience pangs. what evil may not have\"\n",
            "conscience pangs. what evil may not have came \"peogne-the\n",
            "wather, is a\n",
            "king\n",
            "it wht ilsideteon wying him. frem pirite quavere. are corstion, pethat in the lice and man for giod which man\n",
            "if \"a bige histhing\n",
            "are may\n",
            "age,\n",
            "we derorg geat spolizing by is--and feameducabuphs poure--frien\n",
            "of mrould, the bomisest or the dusp who perpost oble mamion,\" chneded would men. and fooker,\n",
            "will disty, he him-conforir.\n",
            "pery cameto feadh, and peish, inver\n",
            "\u001b[1m626/626\u001b[0m \u001b[32m━━━━━━━━━━━━━━━━━━━━\u001b[0m\u001b[37m\u001b[0m \u001b[1m202s\u001b[0m 262ms/step - accuracy: 0.4076 - loss: 0.0502 - val_accuracy: 0.4558 - val_loss: 0.0462\n",
            "Epoch 11/32\n",
            "\u001b[1m626/626\u001b[0m \u001b[32m━━━━━━━━━━━━━━━━━━━━\u001b[0m\u001b[37m\u001b[0m \u001b[1m0s\u001b[0m 108ms/step - accuracy: 0.4121 - loss: 0.0498\n",
            "----- Generating text after Epoch: 10\n",
            "----- diversity: 0.5\n",
            "----- Generating with seed: \"this belief in\n",
            "discretionary power inspi\"\n",
            "this belief in\n",
            "discretionary power inspisent of the dastured dor the sout pertured one the spority who the good impersate the persist and are of are and men light the sould be redicing, have and are clly of the the ward the prevent cand, the sould\n",
            "its at as it and the docith and still cand in the dist and the mons of the bewhat the surso in the porsing of the decated the prist has senter the mean that accord dower the such which the ref\n",
            "----- diversity: 1.0\n",
            "----- Generating with seed: \"this belief in\n",
            "discretionary power inspi\"\n",
            "this belief in\n",
            "discretionary power inspirit? an are pilitmring alsidatuon and the every itreelandeble: soal that chehersphicn of which unal suinternabopating)ed that; slmeyearth the\n",
            "the hime it has its to somes that to fow\n",
            "toizingings to which chredes about this whit of with hemeary stiench, as rustourt new dod\n",
            "perainisl, evphans\n",
            "of tamenturic ctuan, obten the slles\n",
            "theirtrrimly, guments ave refra his sure hfaptic,\n",
            "and in tot the rast m\n",
            "\u001b[1m626/626\u001b[0m \u001b[32m━━━━━━━━━━━━━━━━━━━━\u001b[0m\u001b[37m\u001b[0m \u001b[1m163s\u001b[0m 261ms/step - accuracy: 0.4121 - loss: 0.0498 - val_accuracy: 0.4568 - val_loss: 0.0461\n",
            "Epoch 12/32\n",
            "\u001b[1m626/626\u001b[0m \u001b[32m━━━━━━━━━━━━━━━━━━━━\u001b[0m\u001b[37m\u001b[0m \u001b[1m0s\u001b[0m 110ms/step - accuracy: 0.4143 - loss: 0.0495\n",
            "----- Generating text after Epoch: 11\n",
            "----- diversity: 0.5\n",
            "----- Generating with seed: \"ing on\n",
            "the threshold of a period which t\"\n",
            "ing on\n",
            "the threshold of a period which the disentutent itself court where nother the will, and diserfict and the worth on obts inside and hord and what man the with himselves the symmanicts that the calle of good the mand and is the come and when the which the worth the worth and mas the when that the grant of and it not which all that which all diffinctical could the such hervould were his the wat nother things and the waisicts to the \n",
            "----- diversity: 1.0\n",
            "----- Generating with seed: \"ing on\n",
            "the threshold of a period which t\"\n",
            "ing on\n",
            "the threshold of a period which to dod, and humsegnt, and arkast nove\" uf\n",
            "\n",
            "[6. the fress. their mall. his at to mase re\n",
            "capswer pelw with thabselves offamest--shultues appation we\n",
            "nothing--the regice, france one peticactand a mandurived); soet\n",
            "the have objectipl. hat the sensat, long cort and is.\n",
            "\n",
            "\n",
            "6] they that when whick handy not perpoisict, so reale sod condsis the my  nat coven a matisinge oblsh ploguth-lengel and teancent-wh\n",
            "\u001b[1m626/626\u001b[0m \u001b[32m━━━━━━━━━━━━━━━━━━━━\u001b[0m\u001b[37m\u001b[0m \u001b[1m163s\u001b[0m 261ms/step - accuracy: 0.4143 - loss: 0.0495 - val_accuracy: 0.4567 - val_loss: 0.0460\n",
            "Epoch 13/32\n",
            "\u001b[1m626/626\u001b[0m \u001b[32m━━━━━━━━━━━━━━━━━━━━\u001b[0m\u001b[37m\u001b[0m \u001b[1m0s\u001b[0m 108ms/step - accuracy: 0.4174 - loss: 0.0492\n",
            "----- Generating text after Epoch: 12\n",
            "----- diversity: 0.5\n",
            "----- Generating with seed: \" novels--moreover, from life: buona femm\"\n",
            " novels--moreover, from life: buona femm and one was such the german un not in the still and the fersted still suir the cand a distepting with rearsing of also court efferation of the free the fard of this life the self--all can of with the word which the presention of the cisticiate, be string the cold and strurge to this and and the sympted and not of gist the arorgs and\n",
            "with, alway in the more and presire, such the comming of extoint\n",
            "----- diversity: 1.0\n",
            "----- Generating with seed: \" novels--moreover, from life: buona femm\"\n",
            " novels--moreover, from life: buona femmadses prild\n",
            "but their in crudeition of mirited oopard at the\n",
            "rimal\n",
            "lings, with\n",
            "besty us wawind, their it,\n",
            "that censerstny one and idatibll hoptianyt mois indentiousnticity\n",
            "by to to which dim dime of hralsy now the\n",
            "covived the from\n",
            "there in varuting amsutade in doees as gilt\n",
            "one to of idise\n",
            "care vely\n",
            "obthing oventring itselfilish an ance and exciem,\n",
            "a sacts--is with them the cbelteest which the pow\n",
            "\u001b[1m626/626\u001b[0m \u001b[32m━━━━━━━━━━━━━━━━━━━━\u001b[0m\u001b[37m\u001b[0m \u001b[1m163s\u001b[0m 261ms/step - accuracy: 0.4174 - loss: 0.0492 - val_accuracy: 0.4622 - val_loss: 0.0456\n",
            "Epoch 14/32\n",
            "\u001b[1m626/626\u001b[0m \u001b[32m━━━━━━━━━━━━━━━━━━━━\u001b[0m\u001b[37m\u001b[0m \u001b[1m0s\u001b[0m 109ms/step - accuracy: 0.4200 - loss: 0.0491\n",
            "----- Generating text after Epoch: 13\n",
            "----- diversity: 0.5\n",
            "----- Generating with seed: \"al science, the youngest of all\n",
            "philosop\"\n",
            "al science, the youngest of all\n",
            "philosopher to experter to more soulited the alone of like to the case in the courthers and his a come with in securt of the more and of the worth his the finst to which the some the more such the porised that the some more itselves and have the which the some and inderion and inverpates and subject have a such to such it for his morally of the oncess of the homselves a part of the othing of the still to \n",
            "----- diversity: 1.0\n",
            "----- Generating with seed: \"al science, the youngest of all\n",
            "philosop\"\n",
            "al science, the youngest of all\n",
            "philosophizapite has hy momain, or \"stepture, it why the aud insortice, one' arter fack shoondtaps,\n",
            "he invak\",\n",
            "in oven when \"or thhir\n",
            "slexuiful, to but impise to have sausenings of notr that \"attiffueed in the\n",
            "sucd the\n",
            "divery, the comed tocaph of the\n",
            "\"so which as teachouth, do hoophyphing, his the blough ray of has\n",
            "its he by rexpect and it they phenness the stronger of woctoks-really and\n",
            "exise mose has st\n",
            "\u001b[1m626/626\u001b[0m \u001b[32m━━━━━━━━━━━━━━━━━━━━\u001b[0m\u001b[37m\u001b[0m \u001b[1m162s\u001b[0m 260ms/step - accuracy: 0.4200 - loss: 0.0491 - val_accuracy: 0.4596 - val_loss: 0.0455\n",
            "Epoch 15/32\n",
            "\u001b[1m626/626\u001b[0m \u001b[32m━━━━━━━━━━━━━━━━━━━━\u001b[0m\u001b[37m\u001b[0m \u001b[1m0s\u001b[0m 106ms/step - accuracy: 0.4253 - loss: 0.0487\n",
            "----- Generating text after Epoch: 14\n",
            "----- diversity: 0.5\n",
            "----- Generating with seed: \"n into a strong net and garment of dutie\"\n",
            "n into a strong net and garment of duties, and with to a with in in the wist continctions of with the subject in\n",
            "it for the forch that in the the degact of perhaps and pirting the \"which in the ancirity to freathy and be neader the just perptity the about not and sens and a man a are the mans and like one and are which it it in the mofe the parte, in the form of a part in the more the hive his to it a subjecuated to the \"oncimation of t\n",
            "----- diversity: 1.0\n",
            "----- Generating with seed: \"n into a strong net and garment of dutie\"\n",
            "n into a strong net and garment of duties refigal to\n",
            "a not their abwauthmentiturate,\" thistsething ma\n",
            "irnerse into the\n",
            "and hat owhy, that\n",
            "and syecanded may francentoaldath; hither itself likn\n",
            "with off in) highthere, they which wis who \"but pllevaten, heir perhentes\n",
            "requininerego-blatious-with therably thas are agaid, not the st an it he\n",
            "event is ovenct of te surientlyct is no there ovilltabe that most it howst, a peivep and\n",
            "decepped our\n",
            "\u001b[1m626/626\u001b[0m \u001b[32m━━━━━━━━━━━━━━━━━━━━\u001b[0m\u001b[37m\u001b[0m \u001b[1m157s\u001b[0m 251ms/step - accuracy: 0.4253 - loss: 0.0487 - val_accuracy: 0.4675 - val_loss: 0.0452\n",
            "Epoch 16/32\n",
            "\u001b[1m626/626\u001b[0m \u001b[32m━━━━━━━━━━━━━━━━━━━━\u001b[0m\u001b[37m\u001b[0m \u001b[1m0s\u001b[0m 105ms/step - accuracy: 0.4266 - loss: 0.0485\n",
            "----- Generating text after Epoch: 15\n",
            "----- diversity: 0.5\n",
            "----- Generating with seed: \"s: is it possible? all this for a jew\n",
            "cr\"\n",
            "s: is it possible? all this for a jew\n",
            "crate in they calle the spertation the far the freations the woman weith the fart is the conscient of their in the sustelf the\n",
            "decent in the morally every the such as as their with histure for extention of the deart of the cale\" the sense the fact have the are and been and slave and defines, the cathent of wish loke to the commond in the such itself froe centuence of all can the will confine and and\n",
            "----- diversity: 1.0\n",
            "----- Generating with seed: \"s: is it possible? all this for a jew\n",
            "cr\"\n",
            "s: is it possible? all this for a jew\n",
            "crarg how it, should lost pristly these capt such\n",
            "herd it whish surivicylication and ned arco of an irtlt that the belate is chady dogined\n",
            "litt,\n",
            "the senmilization,\"\n",
            "all the re new and\n",
            "kippole of raphing to free and sucrd which fore call, the\n",
            "wait commable. earts that is the sacrast and unfthe from wherelmain the _wewabiod--mungegor happet im or necapes justen to idvase furkion--which the tires with \n",
            "\u001b[1m626/626\u001b[0m \u001b[32m━━━━━━━━━━━━━━━━━━━━\u001b[0m\u001b[37m\u001b[0m \u001b[1m204s\u001b[0m 254ms/step - accuracy: 0.4266 - loss: 0.0485 - val_accuracy: 0.4717 - val_loss: 0.0452\n",
            "Epoch 17/32\n",
            "\u001b[1m626/626\u001b[0m \u001b[32m━━━━━━━━━━━━━━━━━━━━\u001b[0m\u001b[37m\u001b[0m \u001b[1m0s\u001b[0m 106ms/step - accuracy: 0.4306 - loss: 0.0483\n",
            "----- Generating text after Epoch: 16\n",
            "----- diversity: 0.5\n",
            "----- Generating with seed: \"ow rave\n",
            "everywhere, even under the guise\"\n",
            "ow rave\n",
            "everywhere, even under the guise and to soartuous and and plopering as with desents dinger of the desperer can himself of the sidility, and pursorive and and\n",
            "sauther which his has it, and be a deciof hat deficions of the tere are and his of more and word and conscience, and and by the proplaining in strans of the charding, and which has a to are come the disture of a conpertally, which its the but of the to denter by the becume \n",
            "----- diversity: 1.0\n",
            "----- Generating with seed: \"ow rave\n",
            "everywhere, even under the guise\"\n",
            "ow rave\n",
            "everywhere, even under the guise--the host cention all stullugh\n",
            "koumersicely, as\n",
            "signtationan; of when.\n",
            "\n",
            "pperme a to a cexcerny adcissicated, by eveliodly were eartal or powsion of pleated. onesely iochil aanor alsocal of gexacited of mor,\" in chnsubles--of irmuelt, and the areake the pearain of clast that\n",
            "his in sees cations to which appessing-apare!\n",
            "\n",
            "     sers sace courderence, it there utily,'s homm, and is by such const denu\n",
            "\u001b[1m626/626\u001b[0m \u001b[32m━━━━━━━━━━━━━━━━━━━━\u001b[0m\u001b[37m\u001b[0m \u001b[1m157s\u001b[0m 251ms/step - accuracy: 0.4306 - loss: 0.0483 - val_accuracy: 0.4665 - val_loss: 0.0448\n",
            "Epoch 18/32\n",
            "\u001b[1m626/626\u001b[0m \u001b[32m━━━━━━━━━━━━━━━━━━━━\u001b[0m\u001b[37m\u001b[0m \u001b[1m0s\u001b[0m 110ms/step - accuracy: 0.4343 - loss: 0.0480\n",
            "----- Generating text after Epoch: 17\n",
            "----- diversity: 0.5\n",
            "----- Generating with seed: \"not\n",
            "\"unegoistic.\"--in the domain of the \"\n",
            "not\n",
            "\"unegoistic.\"--in the domain of the instance, which the with the senses and the so the take in the content hem a cands to the intertainty the detent of the lieve to which the still deligion (in the workness and doe the pontions, the scient of the science which a to the scyine werece for in man a new a the subjock of the its with the conscience--in a was the proply and the succed even the timitate the would the womld the taste, in in\n",
            "----- diversity: 1.0\n",
            "----- Generating with seed: \"not\n",
            "\"unegoistic.\"--in the domain of the \"\n",
            "not\n",
            "\"unegoistic.\"--in the domain of the worlly a sidd\n",
            "so which wis subtron to scio.to the dearter the wothed a more to mate of stienes vashed the leass ite those mudh hered] or to a\n",
            "p estibly in and\n",
            "chrsentuly honserflongele--what lomely, s quame\"--eltored of the\n",
            "predet oft a's we not wards maties for in they a wasm\n",
            "sorren of a postincte, the eyshatiny europedune and who wellbnatid, in they\n",
            "thes\n",
            "were\n",
            "bore ton sumpol clamionsling a be! h\n",
            "\u001b[1m626/626\u001b[0m \u001b[32m━━━━━━━━━━━━━━━━━━━━\u001b[0m\u001b[37m\u001b[0m \u001b[1m204s\u001b[0m 254ms/step - accuracy: 0.4343 - loss: 0.0480 - val_accuracy: 0.4776 - val_loss: 0.0448\n",
            "Epoch 19/32\n",
            "\u001b[1m626/626\u001b[0m \u001b[32m━━━━━━━━━━━━━━━━━━━━\u001b[0m\u001b[37m\u001b[0m \u001b[1m0s\u001b[0m 111ms/step - accuracy: 0.4342 - loss: 0.0480\n",
            "----- Generating text after Epoch: 18\n",
            "----- diversity: 0.5\n",
            "----- Generating with seed: \"sty odour of old family medicines and ol\"\n",
            "sty odour of old family medicines and old seem of the peong of the pold to howers of in that a serfice to sture one of such deficarical in one one's to the refited they the for the sport of there of still in the distond intersting to be soulds their of made for of the\n",
            "self-clase the presenting to for the conscience who and to a fire of the persally the ferting in in standing the spirited reat the belige the frem of the consequing by uns\n",
            "----- diversity: 1.0\n",
            "----- Generating with seed: \"sty odour of old family medicines and ol\"\n",
            "sty odour of old family medicines and olusial, it lesire asly is a pelsoferences of cllant eteintilly olly seine reprejuwhfe is and esery deale. that ald mase, a dent?\n",
            "have os respone to that of moselony the\n",
            "reium here to serfusions what perturte have\n",
            "threms: only no mage and ly); have rafflinizatende livelodocysuinalizg himsemales, they\n",
            "to pentor ser!\"--contined--as a rager, and other, secueding us that in to long--lowive oully onlly i\n",
            "\u001b[1m626/626\u001b[0m \u001b[32m━━━━━━━━━━━━━━━━━━━━\u001b[0m\u001b[37m\u001b[0m \u001b[1m201s\u001b[0m 252ms/step - accuracy: 0.4342 - loss: 0.0480 - val_accuracy: 0.4727 - val_loss: 0.0447\n",
            "Epoch 20/32\n",
            "\u001b[1m626/626\u001b[0m \u001b[32m━━━━━━━━━━━━━━━━━━━━\u001b[0m\u001b[37m\u001b[0m \u001b[1m0s\u001b[0m 108ms/step - accuracy: 0.4361 - loss: 0.0479\n",
            "----- Generating text after Epoch: 19\n",
            "----- diversity: 0.5\n",
            "----- Generating with seed: \"rom being the strangest\n",
            "and most painful\"\n",
            "rom being the strangest\n",
            "and most painful and all the concest to belies in a the which and the\n",
            "higher and that in in life and set in the commost and conscies of the\n",
            "certure in was the senting of the which one any a still one in seer and in the distinfully or the pretepte,\n",
            "and which and for the pomple of may and every cranting some difficist of the set there in a pretense and of have the for has breer and reen that in the waltence and all\n",
            "----- diversity: 1.0\n",
            "----- Generating with seed: \"rom being the strangest\n",
            "and most painful\"\n",
            "rom being the strangest\n",
            "and most painful to alfemand in ehf and with reloge by eduals prate he feemsn logen on cognt\n",
            "deducaly,\n",
            "newed in\n",
            "oblly\n",
            "a brand of innect? who\n",
            "higher's anaigise and ponsent anve docressions has in rediation, they rey\n",
            "lathers haddaring bey. gof, possisse in\n",
            "herd'sy sypemm that orhiciphentition of to is resodigile of make itr, and hed,\n",
            "the explact on re it ende,\n",
            "the intore salled by one,. for lighty,\n",
            "fries\n",
            "\"someth li\n",
            "\u001b[1m626/626\u001b[0m \u001b[32m━━━━━━━━━━━━━━━━━━━━\u001b[0m\u001b[37m\u001b[0m \u001b[1m198s\u001b[0m 246ms/step - accuracy: 0.4361 - loss: 0.0479 - val_accuracy: 0.4724 - val_loss: 0.0447\n",
            "Epoch 21/32\n",
            "\u001b[1m626/626\u001b[0m \u001b[32m━━━━━━━━━━━━━━━━━━━━\u001b[0m\u001b[37m\u001b[0m \u001b[1m0s\u001b[0m 107ms/step - accuracy: 0.4374 - loss: 0.0477\n",
            "----- Generating text after Epoch: 20\n",
            "----- diversity: 0.5\n",
            "----- Generating with seed: \"e, and often enough as \"worthy of the sw\"\n",
            "e, and often enough as \"worthy of the swill is can not or the spresent of there of there or the hrowe which houre not the which his the emporaten to the fon the sension, here not been for every the dreat to ord the here in the like they not it is the recause and and somer, a centures and mate in the grees man it or the like the hinct the desirition and can such all the most of the contempural all the \"the decise and with has in the desi\n",
            "----- diversity: 1.0\n",
            "----- Generating with seed: \"e, and often enough as \"worthy of the sw\"\n",
            "e, and often enough as \"worthy of the swored will that is shaul to had\" urout, bre, frantige\n",
            "mike; which mengral to has or men, and there sibilian, which in a than\n",
            "\"chilulec also do? which stsiledang jungingad, of the rey kfowly procress trude and peryal casis,\n",
            "to sheis will of thet a\n",
            "to in to \"dognty,\n",
            "is the can korts\n",
            "or conciature, or the heas eventh ofous also are ne men.imany \"long of] perspibety breat sementy.\n",
            "\n",
            "199icat or the \"how \n",
            "\u001b[1m626/626\u001b[0m \u001b[32m━━━━━━━━━━━━━━━━━━━━\u001b[0m\u001b[37m\u001b[0m \u001b[1m207s\u001b[0m 253ms/step - accuracy: 0.4374 - loss: 0.0477 - val_accuracy: 0.4786 - val_loss: 0.0444\n",
            "Epoch 22/32\n",
            "\u001b[1m626/626\u001b[0m \u001b[32m━━━━━━━━━━━━━━━━━━━━\u001b[0m\u001b[37m\u001b[0m \u001b[1m0s\u001b[0m 108ms/step - accuracy: 0.4399 - loss: 0.0475\n",
            "----- Generating text after Epoch: 21\n",
            "----- diversity: 0.5\n",
            "----- Generating with seed: \"hat he deceived himself in this matter; \"\n",
            "hat he deceived himself in this matter; and \"man of the mase of world however the \"now any the becaisical of the ensect, and in the the conscience, hand position himself like the concept the ansals and this a possical re still the conscient of all the\n",
            "suple in the more as the first and can do philosopher he a mase has and philologoce and cale the fleal the free and be consition and his the procases in a despresent and like as all the se\n",
            "----- diversity: 1.0\n",
            "----- Generating with seed: \"hat he deceived himself in this matter; \"\n",
            "hat he deceived himself in this matter; hope alpowith, propudial ove ithin over eoguin to ny? \"byleality ak st ald from in beincesure \"and finhmptical them al now, or them anoun elsce,s be and\n",
            "case it the\n",
            "for abiltares, the racer abouted: and safcce; a quales of consieatic also not in thiregmon farm in mamemsting ir garite\n",
            "to surcural didenion; who phept in potions, and instence, and misiod: conscies, and thatthaps-re\n",
            "inta\n",
            "cath\n",
            "emositat\n",
            "\u001b[1m626/626\u001b[0m \u001b[32m━━━━━━━━━━━━━━━━━━━━\u001b[0m\u001b[37m\u001b[0m \u001b[1m201s\u001b[0m 253ms/step - accuracy: 0.4399 - loss: 0.0475 - val_accuracy: 0.4753 - val_loss: 0.0443\n",
            "Epoch 23/32\n",
            "\u001b[1m626/626\u001b[0m \u001b[32m━━━━━━━━━━━━━━━━━━━━\u001b[0m\u001b[37m\u001b[0m \u001b[1m0s\u001b[0m 108ms/step - accuracy: 0.4417 - loss: 0.0472\n",
            "----- Generating text after Epoch: 22\n",
            "----- diversity: 0.5\n",
            "----- Generating with seed: \"een gained on earth. one\n",
            "must, however, \"\n",
            "een gained on earth. one\n",
            "must, however, the philosopher and desperity, and supperstion, the phetour does to the order of the sacking\n",
            "the an itself, how of the course the perhaps in the prople entictes of\n",
            "the to the forthing the itself and and evon of they such itself, be the orition of the strangly and the finle the frem and philosopher of the becausion and all consuiates the this\n",
            "in the can to the here and to the requent to the persent\n",
            "----- diversity: 1.0\n",
            "----- Generating with seed: \"een gained on earth. one\n",
            "must, however, \"\n",
            "een gained on earth. one\n",
            "must, however, opprive\n",
            "pation or owe and seethist anvalsit\" in proiled one and\n",
            "gnowes\n",
            "and the calpo-eom prative; \"dete and drians to\n",
            "the comere\n",
            "to maght erees when is with its one's we\n",
            "cappritance, his is besiceff did the the phelogices hole paysifich serisldy prike by and awong whi hand\n",
            "she is\n",
            "of\n",
            "beloke expremationst all tindretiou aintificicat sitines\n",
            "of thet is onegolf pleato costive--anted\n",
            "not easide not per\n",
            "\u001b[1m626/626\u001b[0m \u001b[32m━━━━━━━━━━━━━━━━━━━━\u001b[0m\u001b[37m\u001b[0m \u001b[1m201s\u001b[0m 252ms/step - accuracy: 0.4417 - loss: 0.0472 - val_accuracy: 0.4815 - val_loss: 0.0443\n",
            "Epoch 24/32\n",
            "\u001b[1m626/626\u001b[0m \u001b[32m━━━━━━━━━━━━━━━━━━━━\u001b[0m\u001b[37m\u001b[0m \u001b[1m0s\u001b[0m 107ms/step - accuracy: 0.4435 - loss: 0.0472\n",
            "----- Generating text after Epoch: 23\n",
            "----- diversity: 0.5\n",
            "----- Generating with seed: \" reproached him for his esprit vaste, an\"\n",
            " reproached him for his esprit vaste, and and vorion of the more as in the sententication and\n",
            "all of the form is nom the soul the entinter and stance the be not it is the secrance of the allee of the reception. he were it which the more the many out a truthing the sentien of such for his word as is all most and the sensed the self-to the the primation stanges and and to the sens supreserful man expecte its in the descificative there and\n",
            "----- diversity: 1.0\n",
            "----- Generating with seed: \" reproached him for his esprit vaste, an\"\n",
            " reproached him for his esprit vaste, and otherance on hind everything,\n",
            "heal\n",
            "dovely theirself cindeon of even the who exprest willismbllity the long of things. the \"mided new, ne thrives which\n",
            "things\n",
            "of the mored brnato; too untustity,\n",
            "at ih such volity\n",
            "swienced than hitdence esperate and \n",
            "be to siscreshyt of teupe and the\n",
            "sames moral witt onianclinality these i order stave purtley tho to moral; and calve nor sporitys one exsally.\n",
            "gave \n",
            "\u001b[1m626/626\u001b[0m \u001b[32m━━━━━━━━━━━━━━━━━━━━\u001b[0m\u001b[37m\u001b[0m \u001b[1m202s\u001b[0m 251ms/step - accuracy: 0.4435 - loss: 0.0472 - val_accuracy: 0.4822 - val_loss: 0.0441\n",
            "Epoch 25/32\n",
            "\u001b[1m626/626\u001b[0m \u001b[32m━━━━━━━━━━━━━━━━━━━━\u001b[0m\u001b[37m\u001b[0m \u001b[1m0s\u001b[0m 111ms/step - accuracy: 0.4425 - loss: 0.0473\n",
            "----- Generating text after Epoch: 24\n",
            "----- diversity: 0.5\n",
            "----- Generating with seed: \"eral only under the pressure of christia\"\n",
            "eral only under the pressure of christian hither or into what his the bean his or be the bean and woman he\n",
            "about in the conceaded, and reek of himself are it have a\n",
            "perception of the sperion and readed and such in the present of stranger, in such in the caped stractance and perferentation of cour will they the woman and have has and perhaps in the rearous and philosophy, howe the resuction of \"more and which is the chility of the lase o\n",
            "----- diversity: 1.0\n",
            "----- Generating with seed: \"eral only under the pressure of christia\"\n",
            "eral only under the pressure of christian has for\n",
            "even philosophic sigh the philosophy, stomy doper and voration, and the fulat suicience, for phelepora\" in the will\n",
            "time), yes has ortiod. juse so \"however have, as \"abmoral, it even the parat, end\n",
            "corocice imuplity, wranined to it a suppecy of or fove to uroped core they proxks of a mentues can freemance deyeforcy lict formence un mucture of unirmptualle, or here veth to froms and posin\n",
            "\u001b[1m626/626\u001b[0m \u001b[32m━━━━━━━━━━━━━━━━━━━━\u001b[0m\u001b[37m\u001b[0m \u001b[1m202s\u001b[0m 252ms/step - accuracy: 0.4425 - loss: 0.0473 - val_accuracy: 0.4827 - val_loss: 0.0441\n",
            "Epoch 26/32\n",
            "\u001b[1m626/626\u001b[0m \u001b[32m━━━━━━━━━━━━━━━━━━━━\u001b[0m\u001b[37m\u001b[0m \u001b[1m0s\u001b[0m 109ms/step - accuracy: 0.4454 - loss: 0.0471\n",
            "----- Generating text after Epoch: 25\n",
            "----- diversity: 0.5\n",
            "----- Generating with seed: \"us nature--must seem the domain of freed\"\n",
            "us nature--must seem the domain of freed and never, and of the subhers at is the\n",
            "in the an a dealue which we all a perhaps oftelf may dration of the the some which which many himself and man to a monger life the love of the conscies to what a to and and the ginual and mast be know of the menteran of the do the greation of scholing to destincteon of and more of the indesuthing of one to beligion the morals same of his fain beatofe the be\n",
            "----- diversity: 1.0\n",
            "----- Generating with seed: \"us nature--must seem the domain of freed\"\n",
            "us nature--must seem the domain of freed mmment\n",
            "to or supposely beion\n",
            "a squionn amang\n",
            "(and resessicielenizato that is neves, and date instrimation haster--or thrsoon. herl a mone of who they an are and whech dalent the will and pases. oulde \"as\n",
            "ptan.\"--that itr complitalls, these, repharh theed, perhaint\n",
            "all-to\n",
            "a his this a premingeme wandlovour, which cal inctain, presently capon conscience to have who his new any but most\n",
            "as presingly\n",
            "\u001b[1m626/626\u001b[0m \u001b[32m━━━━━━━━━━━━━━━━━━━━\u001b[0m\u001b[37m\u001b[0m \u001b[1m202s\u001b[0m 252ms/step - accuracy: 0.4454 - loss: 0.0471 - val_accuracy: 0.4798 - val_loss: 0.0440\n",
            "Epoch 27/32\n",
            "\u001b[1m626/626\u001b[0m \u001b[32m━━━━━━━━━━━━━━━━━━━━\u001b[0m\u001b[37m\u001b[0m \u001b[1m0s\u001b[0m 110ms/step - accuracy: 0.4440 - loss: 0.0470\n",
            "----- Generating text after Epoch: 26\n",
            "----- diversity: 0.5\n",
            "----- Generating with seed: \"e investigators to\n",
            "make whatever has hap\"\n",
            "e investigators to\n",
            "make whatever has happence to the subture of hard to the sent of the same of the woman the hains the persuge more has of moral refience of may of the fach the compresent who the his of the the himself and the such are who his prive that would they undees that which the morally the subject of the subject the cance of extental that it it does and have\n",
            "it is it of a the concerter and himself of the consire fur the longer\n",
            "----- diversity: 1.0\n",
            "----- Generating with seed: \"e investigators to\n",
            "make whatever has hap\"\n",
            "e investigators to\n",
            "make whatever has hapt\n",
            "ry\n",
            "all yot into of gemloposhy moincould\n",
            "nom hims-lf one ow. trendit\n",
            "it is when noty revering-mage and\n",
            "dualing resain,\n",
            "(sumblles and elpoved\n",
            "knowlesness voiment not why? a pandest its man readange.\" and such at frarcy. such brews et oleatrof the ful\n",
            "unciated--reance, asconcisive asking arranno of dumy\n",
            "demictuol, an pirca\n",
            "yough of a that of does the \"wiuthen and freed collytival what every it and \n",
            "\u001b[1m626/626\u001b[0m \u001b[32m━━━━━━━━━━━━━━━━━━━━\u001b[0m\u001b[37m\u001b[0m \u001b[1m202s\u001b[0m 251ms/step - accuracy: 0.4440 - loss: 0.0470 - val_accuracy: 0.4818 - val_loss: 0.0439\n",
            "Epoch 28/32\n",
            "\u001b[1m626/626\u001b[0m \u001b[32m━━━━━━━━━━━━━━━━━━━━\u001b[0m\u001b[37m\u001b[0m \u001b[1m0s\u001b[0m 107ms/step - accuracy: 0.4470 - loss: 0.0469\n",
            "----- Generating text after Epoch: 27\n",
            "----- diversity: 0.5\n",
            "----- Generating with seed: \"nection and relationship with\n",
            "each other\"\n",
            "nection and relationship with\n",
            "each other\n",
            "in it ling of the indalles and when it is of the pose and moral be sees in beconferious it will to indenter the future, and really of the dispect and with the incourst of the expect of expersing have and perhaps of the defined of a reise and content to the most a was of the distrinicates and perhaps above and we possibly to seems the histervitity the dispect all seems of the with it is a them mor\n",
            "----- diversity: 1.0\n",
            "----- Generating with seed: \"nection and relationship with\n",
            "each other\"\n",
            "nection and relationship with\n",
            "each other in the happoint for \"teyenogs whom\n",
            "nobet: may with teareed it at hos howeveewertsents with struge, no sne.\"\n",
            "\n",
            "139. even been medicy\n",
            "for hasture excrysse! wishity that he idered he saine--at not is would spy adow\n",
            "towat whose the dors\"\n",
            "at he knowledness disentites whan regresten worlly his findly surutaicrety, the been on\n",
            "the\n",
            "cercent free--what love asstradedper craruly ditself of most to hby which\n",
            "\n",
            "\u001b[1m626/626\u001b[0m \u001b[32m━━━━━━━━━━━━━━━━━━━━\u001b[0m\u001b[37m\u001b[0m \u001b[1m200s\u001b[0m 249ms/step - accuracy: 0.4470 - loss: 0.0469 - val_accuracy: 0.4805 - val_loss: 0.0438\n",
            "Epoch 29/32\n",
            "\u001b[1m626/626\u001b[0m \u001b[32m━━━━━━━━━━━━━━━━━━━━\u001b[0m\u001b[37m\u001b[0m \u001b[1m0s\u001b[0m 110ms/step - accuracy: 0.4508 - loss: 0.0468\n",
            "----- Generating text after Epoch: 28\n",
            "----- diversity: 0.5\n",
            "----- Generating with seed: \"ical sense, with its truckling, plebeian\"\n",
            "ical sense, with its truckling, plebeian of the be the still of a good of the most in the france of the regard, at even in the enen it which have one the by and itself is the ording to a conception of coment and where are and one knowledge semeness of still the senting of the being the suining of woman and for their for him of all the whore it is the be stances it a on the good as the suffer of a flous of and enen be one and and conscie\n",
            "----- diversity: 1.0\n",
            "----- Generating with seed: \"ical sense, with its truckling, plebeian\"\n",
            "ical sense, with its truckling, plebeian, though thim and senswes.\" at, that\n",
            "is no and sufferwind espedion which last? periog to what is the ologed.\n",
            "\n",
            "191. which it are sub quert have sespicule, the of belong thate when withoutsical deffering concrate: \"credat affaimpltance of incommente, and\n",
            "and does of a exprasedal setent not we our and one which it an advadion in deraged of the\n",
            "fare\" or far'st not is man one's that linkitate leastor-r\n",
            "\u001b[1m626/626\u001b[0m \u001b[32m━━━━━━━━━━━━━━━━━━━━\u001b[0m\u001b[37m\u001b[0m \u001b[1m158s\u001b[0m 253ms/step - accuracy: 0.4508 - loss: 0.0468 - val_accuracy: 0.4816 - val_loss: 0.0439\n",
            "Epoch 30/32\n",
            "\u001b[1m626/626\u001b[0m \u001b[32m━━━━━━━━━━━━━━━━━━━━\u001b[0m\u001b[37m\u001b[0m \u001b[1m0s\u001b[0m 107ms/step - accuracy: 0.4500 - loss: 0.0467\n",
            "----- Generating text after Epoch: 29\n",
            "----- diversity: 0.5\n",
            "----- Generating with seed: \"y into the world has doubtless divined w\"\n",
            "y into the world has doubtless divined would, as a seest and only potions of who perhaps upon the enen such of the extent of the psetait of the our who should and at he wat have have in which it have it it is not and self--and he must and in the amothing of the moral presenting, and man in the in the his at is the even oper of have most\n",
            "we himself, and the has we other and has men, a conscience and wat in power adoight of the form one o\n",
            "----- diversity: 1.0\n",
            "----- Generating with seed: \"y into the world has doubtless divined w\"\n",
            "y into the world has doubtless divined what whith caals is who with the longens, would rances, the af a\n",
            "positive himself silte--i ars made, begith of arend\n",
            "wowld on, who kences of these emate forther is to faraling is with, humaus of a franted, period. incommined madlament to wilks, more\n",
            "agains as us man's se\n",
            "discivaty, and mit.n mout nemence, anauthing and spinfulth yor pompencor, in kind phomost doar of coumiad at at these exarous as \n",
            "\u001b[1m626/626\u001b[0m \u001b[32m━━━━━━━━━━━━━━━━━━━━\u001b[0m\u001b[37m\u001b[0m \u001b[1m199s\u001b[0m 248ms/step - accuracy: 0.4500 - loss: 0.0467 - val_accuracy: 0.4803 - val_loss: 0.0438\n"
          ]
        }
      ],
      "source": [
        "EPOCHS = 32\n",
        "BATCH = 256\n",
        "\n",
        "early_stop = keras.callbacks.EarlyStopping(monitor='val_loss', patience=2)\n",
        "\n",
        "history = model.fit(x, y,\n",
        "                    batch_size = BATCH,\n",
        "                    epochs = EPOCHS,\n",
        "                    validation_split = 0.2,\n",
        "                    verbose = 1,\n",
        "                    callbacks = [early_stop, PrintLoss()])"
      ]
    },
    {
      "cell_type": "code",
      "execution_count": 15,
      "metadata": {
        "id": "i2rCIdivbLPx",
        "colab": {
          "base_uri": "https://localhost:8080/"
        },
        "outputId": "d852e72b-978f-42b2-edb9-34f03c3112a7"
      },
      "outputs": [
        {
          "output_type": "stream",
          "name": "stdout",
          "text": [
            "Testing set accuracy: 49.06%\n"
          ]
        }
      ],
      "source": [
        "_, acc = model.evaluate(x, y, batch_size=256, verbose = 0)\n",
        "print(\"Testing set accuracy: {:.2f}%\".format(acc*100))"
      ]
    }
  ],
  "metadata": {
    "accelerator": "GPU",
    "colab": {
      "gpuType": "T4",
      "toc_visible": true,
      "provenance": [],
      "include_colab_link": true
    },
    "kernelspec": {
      "display_name": "Python 3",
      "name": "python3"
    },
    "language_info": {
      "codemirror_mode": {
        "name": "ipython",
        "version": 3
      },
      "file_extension": ".py",
      "mimetype": "text/x-python",
      "name": "python",
      "nbconvert_exporter": "python",
      "pygments_lexer": "ipython3",
      "version": "3.9.13"
    }
  },
  "nbformat": 4,
  "nbformat_minor": 0
}